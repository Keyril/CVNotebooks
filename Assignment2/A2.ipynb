{
 "cells": [
  {
   "cell_type": "code",
   "execution_count": 83,
   "id": "initial_id",
   "metadata": {
    "collapsed": true,
    "ExecuteTime": {
     "end_time": "2024-01-04T04:36:15.619795900Z",
     "start_time": "2024-01-04T04:36:15.598795600Z"
    }
   },
   "outputs": [],
   "source": [
    "import cv2\n",
    "import numpy as np"
   ]
  },
  {
   "cell_type": "code",
   "outputs": [],
   "source": [
    "def compute_gradient_magnitude(image):\n",
    "    gradient_x = cv2.Sobel(image, cv2.CV_64F, 1, 0, ksize=3)\n",
    "    gradient_y = cv2.Sobel(image, cv2.CV_64F, 0, 1, ksize=3)\n",
    "    \n",
    "    gradient_magnitude = np.sqrt(gradient_x**2 + gradient_y**2)\n",
    "    \n",
    "    return gradient_magnitude"
   ],
   "metadata": {
    "collapsed": false,
    "ExecuteTime": {
     "end_time": "2024-01-04T04:36:15.917796700Z",
     "start_time": "2024-01-04T04:36:15.913796600Z"
    }
   },
   "id": "322f3eaa912af663",
   "execution_count": 84
  },
  {
   "cell_type": "code",
   "outputs": [],
   "source": [
    "def find_vertical_seam(magnitude):\n",
    "    rows, cols = magnitude.shape\n",
    "    seam = []\n",
    "    \n",
    "    mag_copy = np.copy(magnitude)\n",
    "    \n",
    "    # find the cumulative magnitude values to decide a starting point for backtracking\n",
    "    \n",
    "    for i in range(1, rows):\n",
    "        for j in range(cols):\n",
    "            left = mag_copy[i - 1, j - 1] if j > 0 else np.inf\n",
    "            center = mag_copy[i - 1, j]\n",
    "            right = mag_copy[i - 1, j + 1] if j < cols-1 else np.inf\n",
    "            \n",
    "            mag_copy[i, j] += min(left, right, center)\n",
    "            \n",
    "    # choose the index with the smallest cumulative magnitude as a starting point for the finding a seam\n",
    "    min_mag_index = np.argmin(mag_copy[-1, :])\n",
    "    seam.append(min_mag_index)\n",
    "    \n",
    "    # Backtrack to find the entire seam - start on the last row\n",
    "    for i in range(rows - 2, -1, -1):\n",
    "        if min_mag_index == 0:\n",
    "            # on first col so only two options\n",
    "            indices = [min_mag_index, min_mag_index + 1]\n",
    "        elif min_mag_index == cols - 1:\n",
    "            # on last col so only two options\n",
    "            indices = [min_mag_index - 1, min_mag_index]\n",
    "        else:\n",
    "            # the three x-value options to choose from when traversing up\n",
    "            indices = [min_mag_index - 1, min_mag_index, min_mag_index + 1]\n",
    "        # choose the min between the 3 option magnitudes\n",
    "        min_mag_index = indices[np.argmin(mag_copy[i, indices])]\n",
    "        # add x index to seam (value is assumed)\n",
    "        seam.insert(0, min_mag_index)\n",
    "    \n",
    "    return seam\n",
    "\n"
   ],
   "metadata": {
    "collapsed": false,
    "ExecuteTime": {
     "end_time": "2024-01-04T04:36:16.269795100Z",
     "start_time": "2024-01-04T04:36:16.259796400Z"
    }
   },
   "id": "5be602bf29012558",
   "execution_count": 85
  },
  {
   "cell_type": "code",
   "outputs": [],
   "source": [
    "def remove_vertical_seam(img, seam):\n",
    "    rows, cols = img.shape\n",
    "    new_img = np.zeros((rows, cols - 1), dtype=np.uint8)\n",
    "    \n",
    "    for i in range(rows):\n",
    "        j_seam = seam[i]\n",
    "        new_img[i] = np.delete(img[i], j_seam, axis=0)\n",
    "    \n",
    "    return new_img"
   ],
   "metadata": {
    "collapsed": false,
    "ExecuteTime": {
     "end_time": "2024-01-04T04:41:14.182043400Z",
     "start_time": "2024-01-04T04:41:14.175044Z"
    }
   },
   "id": "ca2e06310778c56c",
   "execution_count": 96
  },
  {
   "cell_type": "code",
   "outputs": [],
   "source": [
    "def highlight_seam(img, seam):\n",
    "    new_img = np.copy(img)\n",
    "    rows, cols = img.shape\n",
    "    for i in range(rows):\n",
    "        new_img[i][seam[i]] = 255\n",
    "    return new_img"
   ],
   "metadata": {
    "collapsed": false,
    "ExecuteTime": {
     "end_time": "2024-01-04T04:43:20.444198300Z",
     "start_time": "2024-01-04T04:43:20.428195400Z"
    }
   },
   "id": "f94c7568ef28a2b",
   "execution_count": 99
  },
  {
   "cell_type": "code",
   "outputs": [],
   "source": [
    "filepath = 'assets/test.jpg'\n",
    "img = cv2.imread(filepath, cv2.IMREAD_GRAYSCALE)\n",
    "\n",
    "if img is None:\n",
    "    print(f\"Error: Unable to read the image at '{''}'\")"
   ],
   "metadata": {
    "collapsed": false,
    "ExecuteTime": {
     "end_time": "2024-01-04T04:41:14.972043600Z",
     "start_time": "2024-01-04T04:41:14.951043300Z"
    }
   },
   "id": "72888010ea149195",
   "execution_count": 97
  },
  {
   "cell_type": "code",
   "outputs": [],
   "source": [
    "# loop for how many seams to remove\n",
    "for _ in range(10):\n",
    "    gradient_magnitude = compute_gradient_magnitude(img)\n",
    "    seam = find_vertical_seam(gradient_magnitude)\n",
    "    img = remove_vertical_seam(img, seam)\n",
    "\n",
    "# h = highlight_seam(img, seam)\n",
    "# cv2.imshow(\"H_Image\", h)\n",
    "\n",
    "cv2.namedWindow(\"Original_Image\", cv2.WINDOW_NORMAL)\n",
    "cv2.namedWindow(\"Changed_Image\", cv2.WINDOW_NORMAL)\n",
    "\n",
    "cv2.imshow(\"Original_Image\", cv2.imread(filepath))\n",
    "cv2.imshow(\"Changed_Image\", img)\n",
    "\n",
    "cv2.waitKey(0)\n",
    "cv2.destroyAllWindows()"
   ],
   "metadata": {
    "collapsed": false,
    "ExecuteTime": {
     "end_time": "2024-01-04T04:53:12.420587500Z",
     "start_time": "2024-01-04T04:49:28.896302300Z"
    }
   },
   "id": "38617af62ffdb9fb",
   "execution_count": 103
  }
 ],
 "metadata": {
  "kernelspec": {
   "display_name": "Python 3",
   "language": "python",
   "name": "python3"
  },
  "language_info": {
   "codemirror_mode": {
    "name": "ipython",
    "version": 2
   },
   "file_extension": ".py",
   "mimetype": "text/x-python",
   "name": "python",
   "nbconvert_exporter": "python",
   "pygments_lexer": "ipython2",
   "version": "2.7.6"
  }
 },
 "nbformat": 4,
 "nbformat_minor": 5
}
